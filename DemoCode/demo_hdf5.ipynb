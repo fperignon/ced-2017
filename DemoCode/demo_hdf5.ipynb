{
 "cells": [
  {
   "cell_type": "markdown",
   "metadata": {},
   "source": [
    "# Un exemple d'utilisation d'hdf5 en python"
   ]
  },
  {
   "cell_type": "markdown",
   "metadata": {},
   "source": [
    "### Notebook\n",
    "\n",
    "Plusieurs environnements sont disponibles (menu kernel ci-dessus -->change kernel). On travaillera ici avec Python3.\n",
    "\n",
    "Chaque \"cellule\" peut contenir soit du code python, soit du \"texte\" (Markdown ou Code dans le menu en haut).\n",
    "\n",
    "Vous pouvez exécuter les cellules une à une (voir commandes ci-après) ou exécuter toute la page (menu Kernel->Restart & Run all).\n",
    "\n",
    "Attention: chaque cellule peut-être exécutée indépendamment des autres mais les résultats d'exécution sont conservées.\n",
    "Pour repartir de zero il faut soit faire appel à \"%reset\" ou à restart dans le menu kernel\n",
    "\n",
    "### Notebook - Principales commandes\n",
    "Editer une cellule : Enter\n",
    "\n",
    "Exécuter une cellule : Shift + Enter\n",
    "\n",
    "Supprimer une cellule : DD\n",
    "\n",
    "Ajouter une cellule: Ctrl-m b\n",
    "\n",
    "Liste des raccourcis : Ctrl-m h\n",
    "\n",
    "Liste des \"magic commands\" ipython : %lsmagic\n",
    "\n",
    "Plus d'infos : https://jupyter-notebook-beginner-guide.readthedocs.io/en/latest/what_is_jupyter.html#references"
   ]
  },
  {
   "cell_type": "markdown",
   "metadata": {},
   "source": [
    "## Import du package hdf5\n",
    "\n",
    "Pour utiliser hdf5 en python, nous aurons besoin du package h5py.\n",
    "\n",
    "Nous aurons également besoin de numpy qui est le package standard de calcul scientifique en python, http://www.numpy.org.\n",
    "\n",
    "Nous l'utiliserons pour manipuler des matrices et des vecteurs."
   ]
  },
  {
   "cell_type": "code",
   "execution_count": 1,
   "metadata": {
    "collapsed": false
   },
   "outputs": [],
   "source": [
    "import h5py\n",
    "import numpy as np"
   ]
  },
  {
   "cell_type": "markdown",
   "metadata": {},
   "source": [
    "Pour obtenir des infos sur un package ou une fonction, il suffit d'utiliser\n",
    "\"?\", et la doc apparait en bas du navigateur."
   ]
  },
  {
   "cell_type": "code",
   "execution_count": 2,
   "metadata": {
    "collapsed": true
   },
   "outputs": [],
   "source": [
    "?h5py"
   ]
  },
  {
   "cell_type": "markdown",
   "metadata": {},
   "source": [
    "L'objectif de cette démo/TP est d'illustrer les concepts de base d'hdf5, à travers la création d'un exemple simple.\n",
    "Nous allons sauvegarder dans un fichier hdf5 des champs scalaires représentant certaines grandeurs physiques sur une grille 3D (sous forme de tableau numpy), puis les visualiser, les relire etc."
   ]
  },
  {
   "cell_type": "markdown",
   "metadata": {},
   "source": [
    "## Definition des variables\n",
    "\n",
    "Pour commencer, on crée un tableau 3D de dimension Nx X Ny X Nz, rempli aléatoirement, grâce à numpy (np)."
   ]
  },
  {
   "cell_type": "code",
   "execution_count": 3,
   "metadata": {
    "collapsed": true
   },
   "outputs": [],
   "source": [
    "# Resolution du champ\n",
    "Nx = Ny = Nz = 256\n",
    "resolution = (Nx, Ny, Nz)\n",
    "\n",
    "# Deux champs scalaires, initialisés aléatoirement\n",
    "vx = np.random.random_sample(resolution)\n",
    "temperature = np.random.random_sample(resolution)"
   ]
  },
  {
   "cell_type": "markdown",
   "metadata": {},
   "source": [
    "Dans numpy, l'accès aux valeurs du tableau se fait comme suit \n",
    "\n",
    "(pour plus de détails voir un des nombreux tuto disponibles en ligne, par exemple,\n",
    "https://docs.scipy.org/doc/numpy-dev/user/quickstart.html)"
   ]
  },
  {
   "cell_type": "code",
   "execution_count": 4,
   "metadata": {
    "collapsed": false
   },
   "outputs": [
    {
     "name": "stdout",
     "output_type": "stream",
     "text": [
      "0.742534497954\n",
      "[ 0.93521814  0.44043806  0.16654934  0.33576459  0.25932649  0.25146865]\n",
      "[[ 0.16654934  0.33576459]\n",
      " [ 0.77168381  0.7425345 ]]\n"
     ]
    }
   ],
   "source": [
    "# un exemple de manipulation de tableau ...\n",
    "small_tab = np.random.random((4,6))\n",
    "# un élement:\n",
    "print(small_tab[3, 3])\n",
    "# une \"ligne\"\n",
    "print(small_tab[2, :])\n",
    "# une sous-partie du tableau:   \n",
    "print(small_tab[2:4, 2:4])"
   ]
  },
  {
   "cell_type": "markdown",
   "metadata": {},
   "source": [
    "## 1 - Le \"fichier\" hdf5\n",
    "\n",
    "Le \"fichier\" hdf5 est l'objet principal qui permettra de stocker vos données et leurs attributs. On parlera à la fois\n",
    "de \"fichier\" pour le fichier sur le disque (extension .h5, .hdf5 ou .he5) et pour l'objet manipulé dans le code.\n",
    "\n",
    "Il s'agit d'une sorte de container de **datasets** (les structures de données, voir plus bas) qui peut également être organisé en **groupes** et sous-groupes. \n",
    "\n",
    "**TP** - *Créez un \"fichier\" hdf5 nommé hdf_file, en mode 'écriture'. Il faudra pour cela faire appel à la fonction\n",
    "h5py.File*\n",
    "\n",
    "Rappel : pour accèder à la doc, il suffit de taper\n",
    "?h5py.NOM_FONCTION."
   ]
  },
  {
   "cell_type": "code",
   "execution_count": 5,
   "metadata": {
    "collapsed": true
   },
   "outputs": [],
   "source": [
    "# Affichage de la documentation de la fonction\n",
    "?h5py.File"
   ]
  },
  {
   "cell_type": "code",
   "execution_count": 5,
   "metadata": {
    "collapsed": false
   },
   "outputs": [],
   "source": [
    "filename = 'demo_v0.h5'\n",
    "# Création/ouverture en mode 'ecriture'\n",
    "mode = 'w'\n",
    "hdf_file = ..."
   ]
  },
  {
   "cell_type": "markdown",
   "metadata": {
    "collapsed": true
   },
   "source": [
    "Quand toutes les données auront été sauvegardées, il sera nécessaire de fermer le fichier, pour\n",
    "valider l'écriture sur le disque, via la fonction close()."
   ]
  },
  {
   "cell_type": "markdown",
   "metadata": {},
   "source": [
    "*Vérifiez que le fichier a bien été créé. Notez au passage que dans ipython notebook vous avez accès à certaines commandes du terminal*"
   ]
  },
  {
   "cell_type": "code",
   "execution_count": 7,
   "metadata": {
    "collapsed": false
   },
   "outputs": [
    {
     "name": "stdout",
     "output_type": "stream",
     "text": [
      "total 240\r\n",
      "-rw-r--r--   1 Franck  staff   1337  9 jan 14:51 main_parallel.py\r\n",
      "drwxr-xr-x  12 Franck  staff    408  9 jan 14:51 \u001b[34mhysop\u001b[m\u001b[m/\r\n",
      "-rw-r--r--   1 Franck  staff    602  9 jan 14:51 demo_io.py\r\n",
      "-rw-r--r--   1 Franck  staff    819  9 jan 14:51 demo_io.cxx\r\n",
      "-rw-r--r--   1 Franck  staff   2869  9 jan 14:51 demo_hdf5.py\r\n",
      "-rw-r--r--   1 Franck  staff    380  9 jan 14:51 README\r\n",
      "-rw-r--r--   1 Franck  staff   4404  1 fév 14:42 xdmf.py\r\n",
      "drwxr-xr-x  33 Franck  staff   1122  3 fév 10:49 \u001b[34m..\u001b[m\u001b[m/\r\n",
      "drwxr-xr-x   3 Franck  staff    102  3 fév 11:26 \u001b[34m__pycache__\u001b[m\u001b[m/\r\n",
      "-rw-r--r--   1 Franck  staff   1124  3 fév 11:37 demo_ok.xmf\r\n",
      "-rw-r--r--   1 Franck  staff  58532  3 fév 11:38 demo_hdf5.ipynb\r\n",
      "drwxr-xr-x   5 Franck  staff    170  3 fév 11:39 \u001b[34m.ipynb_checkpoints\u001b[m\u001b[m/\r\n",
      "-rw-r--r--   1 Franck  staff  27170  3 fév 11:43 demo_hdf5_correction.ipynb\r\n",
      "drwxr-xr-x  15 Franck  staff    510  3 fév 11:44 \u001b[34m.\u001b[m\u001b[m/\r\n",
      "-rw-r--r--   1 Franck  staff      0  3 fév 11:44 demo_v0.h5\r\n"
     ]
    }
   ],
   "source": [
    "ls -altr"
   ]
  },
  {
   "cell_type": "markdown",
   "metadata": {},
   "source": [
    "Dans la mesure ou h5py.File est une classe, on peut avoir accès à ses attributs et méthodes.\n",
    "\n",
    "Dans le notebook il suffit d'utiliser la complétion pour avoir une liste complète des attributs:\n",
    "\n",
    "nom_class. + TAB\n",
    "\n",
    "*Affichage du nom du fichier sur le disque et le nom de l'objet file:*"
   ]
  },
  {
   "cell_type": "code",
   "execution_count": 8,
   "metadata": {
    "collapsed": false
   },
   "outputs": [
    {
     "name": "stdout",
     "output_type": "stream",
     "text": [
      "/\n",
      "demo_v0.h5\n"
     ]
    }
   ],
   "source": [
    "print(hdf_file.name)\n",
    "print(hdf_file.filename)"
   ]
  },
  {
   "cell_type": "markdown",
   "metadata": {},
   "source": [
    "## Création de datasets: des tableaux dans le fichiers hdf5\n",
    "\n",
    "Dans un fichier hdf, les \"données\" sont stockées sous forme de dataset.\n",
    "Un dataset est un tableau multi-dimensionnel contenant des données d'un même type.\n",
    "\n",
    "**TP** *Créez deux datasets dans le fichier hdf5, pour stocker les deux champs scalaires définis plus haut:*\n",
    "\n",
    "* *un dataset 'data_velo' vide et de même résolution que vx*\n",
    "* *un dataset 'data_tp' qui contient une copie de temperature*\n",
    "\n"
   ]
  },
  {
   "cell_type": "code",
   "execution_count": 9,
   "metadata": {
    "collapsed": false
   },
   "outputs": [],
   "source": [
    "# Création de dataset : \n",
    "?h5py.File.create_dataset"
   ]
  },
  {
   "cell_type": "code",
   "execution_count": 6,
   "metadata": {
    "collapsed": false
   },
   "outputs": [],
   "source": [
    "# Paramètres : nom, shape, type\n",
    "data_velo = ...\n",
    "# Paramètres : un tableau numpy\n",
    "data_tp = ..."
   ]
  },
  {
   "cell_type": "markdown",
   "metadata": {},
   "source": [
    "## Manipulation des datasets\n",
    "\n",
    "Les datasets peuvent être manipulés comme des tableaux numpy:"
   ]
  },
  {
   "cell_type": "code",
   "execution_count": 7,
   "metadata": {
    "collapsed": false
   },
   "outputs": [
    {
     "name": "stdout",
     "output_type": "stream",
     "text": [
      "Ellipsis\n",
      "Ellipsis\n"
     ]
    },
    {
     "ename": "AttributeError",
     "evalue": "'ellipsis' object has no attribute 'shape'",
     "output_type": "error",
     "traceback": [
      "\u001b[0;31m---------------------------------------------------------------------------\u001b[0m",
      "\u001b[0;31mAttributeError\u001b[0m                            Traceback (most recent call last)",
      "\u001b[0;32m<ipython-input-7-6361d667d546>\u001b[0m in \u001b[0;36m<module>\u001b[0;34m()\u001b[0m\n\u001b[1;32m      1\u001b[0m \u001b[0mprint\u001b[0m\u001b[0;34m(\u001b[0m\u001b[0mdata_tp\u001b[0m\u001b[0;34m)\u001b[0m\u001b[0;34m\u001b[0m\u001b[0m\n\u001b[1;32m      2\u001b[0m \u001b[0mprint\u001b[0m\u001b[0;34m(\u001b[0m\u001b[0mdata_velo\u001b[0m\u001b[0;34m)\u001b[0m\u001b[0;34m\u001b[0m\u001b[0m\n\u001b[0;32m----> 3\u001b[0;31m \u001b[0mprint\u001b[0m\u001b[0;34m(\u001b[0m\u001b[0mdata_tp\u001b[0m\u001b[0;34m.\u001b[0m\u001b[0mshape\u001b[0m\u001b[0;34m)\u001b[0m\u001b[0;34m\u001b[0m\u001b[0m\n\u001b[0m\u001b[1;32m      4\u001b[0m \u001b[0;31m# A ce stade, data_tp contient les mêmes valeurs que temperature tandis que tous les éléments de data_velo sont nuls.\u001b[0m\u001b[0;34m\u001b[0m\u001b[0;34m\u001b[0m\u001b[0m\n\u001b[1;32m      5\u001b[0m \u001b[0mprint\u001b[0m\u001b[0;34m(\u001b[0m\u001b[0mnp\u001b[0m\u001b[0;34m.\u001b[0m\u001b[0mallclose\u001b[0m\u001b[0;34m(\u001b[0m\u001b[0mdata_tp\u001b[0m\u001b[0;34m,\u001b[0m \u001b[0mtemperature\u001b[0m\u001b[0;34m)\u001b[0m\u001b[0;34m)\u001b[0m\u001b[0;34m\u001b[0m\u001b[0m\n",
      "\u001b[0;31mAttributeError\u001b[0m: 'ellipsis' object has no attribute 'shape'"
     ]
    }
   ],
   "source": [
    "print(data_tp)\n",
    "print(data_velo)\n",
    "print(data_tp.shape)\n",
    "# A ce stade, data_tp contient les mêmes valeurs que temperature tandis que tous les éléments de data_velo sont nuls.\n",
    "print(np.allclose(data_tp, temperature))\n",
    "print(temperature[1,5,3])\n",
    "print(data_velo[1:10, 1,3])"
   ]
  },
  {
   "cell_type": "markdown",
   "metadata": {},
   "source": [
    "ou par l'intermédiaire du fichier hdf5, via leur nom:"
   ]
  },
  {
   "cell_type": "code",
   "execution_count": 12,
   "metadata": {
    "collapsed": false
   },
   "outputs": [
    {
     "name": "stdout",
     "output_type": "stream",
     "text": [
      "<HDF5 dataset \"velocity\": shape (256, 256, 256), type \"<f8\">\n"
     ]
    }
   ],
   "source": [
    "print(hdf_file['velocity'])"
   ]
  },
  {
   "cell_type": "markdown",
   "metadata": {},
   "source": [
    "La modification du contenu de chaque dataset est similaire à celle d'un tableau numpy.\n",
    "Nous allons maintenant remplir data_velo en calculant le cosinus de vx:"
   ]
  },
  {
   "cell_type": "code",
   "execution_count": 13,
   "metadata": {
    "collapsed": false
   },
   "outputs": [],
   "source": [
    "data_velo[...] = np.cos(vx)\n",
    "\n"
   ]
  },
  {
   "cell_type": "markdown",
   "metadata": {},
   "source": [
    "## Les groupes\n",
    "\n",
    "Il est donc possible de l'organiser en groupes et sous-groupes contenant des datasets, via la fonction\n",
    "create_group.\n",
    "\n",
    "**TP ** *Créez un groupe 'champs' et un groupe 'infos' contenant un sous-groupe  'diverses'.*\n",
    "\n",
    "Remarque: l'objet fichier hdf5 possède a une structure arborescente, à la manière d'un système de fichier classique.\n",
    "Nous avons vu plus haut que le nom de l'objet hdf_file est '/'. Cela se traduit également dans la manière de nommer les groupes. le groupe 'diverses' apparaitra ainsi:\n",
    "\n",
    "/infos/diverses.\n"
   ]
  },
  {
   "cell_type": "code",
   "execution_count": 14,
   "metadata": {
    "collapsed": true
   },
   "outputs": [],
   "source": [
    "?h5py.File.create_group"
   ]
  },
  {
   "cell_type": "code",
   "execution_count": 15,
   "metadata": {
    "collapsed": false
   },
   "outputs": [
    {
     "data": {
      "text/plain": [
       "<HDF5 group \"/infos/diverses\" (0 members)>"
      ]
     },
     "execution_count": 15,
     "metadata": {},
     "output_type": "execute_result"
    }
   ],
   "source": [
    "# Creation d'un groupe 'champs'\n",
    "g1 = ...\n",
    "# Puis d'un groupe infos/diverses\n"
   ]
  },
  {
   "cell_type": "markdown",
   "metadata": {},
   "source": [
    "L'accès aux données et attributs se fait de manière classique:"
   ]
  },
  {
   "cell_type": "code",
   "execution_count": 16,
   "metadata": {
    "collapsed": false
   },
   "outputs": [
    {
     "name": "stdout",
     "output_type": "stream",
     "text": [
      "<HDF5 group \"/champs\" (0 members)>\n",
      "<HDF5 group \"/infos\" (1 members)>\n"
     ]
    }
   ],
   "source": [
    "print(hdf_file['champs'])\n",
    "print(hdf_file['infos'])"
   ]
  },
  {
   "cell_type": "markdown",
   "metadata": {},
   "source": [
    "Nous sommes maintenant en mesure de créer un dataset 'density' dans le groupe champs, représenant un champ\n",
    "scalaire de la même resolution que temperature"
   ]
  },
  {
   "cell_type": "code",
   "execution_count": 8,
   "metadata": {
    "collapsed": false
   },
   "outputs": [
    {
     "data": {
      "text/plain": [
       "Ellipsis"
      ]
     },
     "execution_count": 8,
     "metadata": {},
     "output_type": "execute_result"
    }
   ],
   "source": [
    "..."
   ]
  },
  {
   "cell_type": "markdown",
   "metadata": {},
   "source": [
    "On peut balayer tous les éléments du groupe"
   ]
  },
  {
   "cell_type": "code",
   "execution_count": 18,
   "metadata": {
    "collapsed": false
   },
   "outputs": [
    {
     "name": "stdout",
     "output_type": "stream",
     "text": [
      "('champs', <HDF5 group \"/champs\" (1 members)>)\n",
      "('infos', <HDF5 group \"/infos\" (1 members)>)\n",
      "('temperature', <HDF5 dataset \"temperature\": shape (256, 256, 256), type \"<f8\">)\n",
      "('velocity', <HDF5 dataset \"velocity\": shape (256, 256, 256), type \"<f8\">)\n",
      "groupe champs ...\n",
      "('density', <HDF5 dataset \"density\": shape (256, 256, 256), type \"<f8\">)\n"
     ]
    }
   ],
   "source": [
    "for it in hdf_file.items():\n",
    "    print(it)\n",
    "for it in hdf_file['champs'].items():\n",
    "    print(\"groupe champs ...\")\n",
    "    print(it)"
   ]
  },
  {
   "cell_type": "markdown",
   "metadata": {},
   "source": [
    "Ou également supprimer un groupe avec la fonction python del"
   ]
  },
  {
   "cell_type": "code",
   "execution_count": 19,
   "metadata": {
    "collapsed": false
   },
   "outputs": [],
   "source": [
    "del hdf_file['/infos/diverses']"
   ]
  },
  {
   "cell_type": "code",
   "execution_count": 20,
   "metadata": {
    "collapsed": false
   },
   "outputs": [
    {
     "name": "stdout",
     "output_type": "stream",
     "text": [
      "<HDF5 dataset \"density\": shape (256, 256, 256), type \"<f8\">\n"
     ]
    }
   ],
   "source": [
    "print(g1['density'])"
   ]
  },
  {
   "cell_type": "markdown",
   "metadata": {},
   "source": [
    "## Attributs\n",
    "\n",
    "Un autre intérêt du format hdf5 est de pouvoir associer aux datasets et groupes des méta-données, i.e. des informations sous formes d'attributs.\n",
    "\n",
    "Voici quelques exemples:"
   ]
  },
  {
   "cell_type": "code",
   "execution_count": 21,
   "metadata": {
    "collapsed": false
   },
   "outputs": [],
   "source": [
    "hdf_file['velocity'].attrs['année'] = 2015\n",
    "hdf_file['velocity'].attrs['commentaires'] = 'Valeurs experimentales du champs de vitesse'\n",
    "g1['density'].attrs['description'] = u\"une description du champs\""
   ]
  },
  {
   "cell_type": "markdown",
   "metadata": {},
   "source": [
    "Puis afficher les caractéristiques d'un dataset:"
   ]
  },
  {
   "cell_type": "code",
   "execution_count": 22,
   "metadata": {
    "collapsed": false
   },
   "outputs": [
    {
     "name": "stdout",
     "output_type": "stream",
     "text": [
      "2015\n",
      "Valeurs experimentales du champs de vitesse\n"
     ]
    }
   ],
   "source": [
    "for it in hdf_file['velocity'].attrs.values():\n",
    "    print(it)"
   ]
  },
  {
   "cell_type": "markdown",
   "metadata": {},
   "source": [
    "## Ecriture et fermeture du fichier :\n",
    "\n",
    "Nous sommes maintenant en mesure de fermer le fichier.\n",
    "\n",
    "La visualisation des données peut se faire par différentes méthodes:\n",
    "\n",
    "* h5dump\n",
    "* hdfview\n",
    "* un logiciel capable de lire du hdf5 (visit ...)\n",
    "\n",
    "\n",
    "**TD** *Visualisez le contenu du fichier avec hdfview et hdfdump, dans votre terminal*"
   ]
  },
  {
   "cell_type": "code",
   "execution_count": 23,
   "metadata": {
    "collapsed": false
   },
   "outputs": [],
   "source": [
    "hdf_file.close()"
   ]
  },
  {
   "cell_type": "markdown",
   "metadata": {},
   "source": [
    "Nous allons maintenant repartir de zero et charger des données d'un fichier hdf5\n",
    "\n",
    "## Lecture d'un fichier hdf5\n",
    "\n",
    "**TP** *Créez un tableau 'new_field' à partir du champs temperature du fichier hdf5 'demo_v0.h5'*\n",
    "\n",
    "* ouvrir le fichier demo_v0.h5\n",
    "* créer le tableau numpy à partir du dataset temperature\n",
    "\n",
    "Notes : \n",
    "* la lecture se fait simplement en créant un objet fichier en mode 'lecture'\n",
    "* il faudra utiliser la fonction np.asarray pour assurer la conversion du dataset vers le tableau numpy\n",
    " \n",
    " tab_numpy = np.asarray(dataset)\n"
   ]
  },
  {
   "cell_type": "code",
   "execution_count": 24,
   "metadata": {
    "collapsed": false
   },
   "outputs": [],
   "source": [
    "# Remise à zero de l'environnement ...\n",
    "#%reset\n",
    "import h5py\n",
    "import numpy as np"
   ]
  },
  {
   "cell_type": "code",
   "execution_count": 25,
   "metadata": {
    "collapsed": false
   },
   "outputs": [],
   "source": [
    "# Lecture du fichier hdf5\n",
    "filename = 'demo_v0.h5'\n",
    "in_file = h5py.File(filename, 'r')"
   ]
  },
  {
   "cell_type": "markdown",
   "metadata": {},
   "source": [
    "Affichage du contenu du fichier ...\n",
    "\n",
    "Notez au passage l'intérêt du format hdf5 : le fichier est 'auto-suffisant': toutes les informations\n",
    "nécessaires à la comprehension de son contenu sont disponibles (noms des variables, dimensions des tableaux ...)"
   ]
  },
  {
   "cell_type": "code",
   "execution_count": 26,
   "metadata": {
    "collapsed": false
   },
   "outputs": [
    {
     "name": "stdout",
     "output_type": "stream",
     "text": [
      "champs <HDF5 group \"/champs\" (1 members)>\n",
      "infos <HDF5 group \"/infos\" (0 members)>\n",
      "temperature <HDF5 dataset \"temperature\": shape (256, 256, 256), type \"<f8\">\n",
      "velocity <HDF5 dataset \"velocity\": shape (256, 256, 256), type \"<f8\">\n",
      "--> ('année', 2015)\n",
      "--> ('commentaires', 'Valeurs experimentales du champs de vitesse')\n"
     ]
    }
   ],
   "source": [
    "# On balaies tout le contenu du fichier (datasets et groupes)\n",
    "for keys in in_file:\n",
    "    print(keys, in_file[keys])\n",
    "    # Dans chaque cas, on affiche la liste des attributs\n",
    "    for it in in_file[keys].attrs.items():\n",
    "        print('-->', it)"
   ]
  },
  {
   "cell_type": "code",
   "execution_count": 27,
   "metadata": {
    "collapsed": false
   },
   "outputs": [
    {
     "name": "stdout",
     "output_type": "stream",
     "text": [
      "[[ 0.99951884  0.8821975   0.98073101  0.61121372  0.97585271  0.97829434\n",
      "   0.81172044  0.99972648  0.75650334]\n",
      " [ 0.99901897  0.96697666  0.55531918  0.8851684   0.97042763  0.97155086\n",
      "   0.91525546  0.70261767  0.61530351]\n",
      " [ 0.54825728  0.88011354  0.99727672  0.93720997  0.96912112  0.96632235\n",
      "   0.9999719   0.99989241  0.88178572]\n",
      " [ 0.9995329   0.99560357  0.99947794  0.99652537  0.89623101  0.98052064\n",
      "   0.90926823  0.54302826  0.96554664]\n",
      " [ 0.95647653  0.83498855  0.97786865  0.89755076  0.96377316  0.82734979\n",
      "   0.70397695  0.9258419   0.99024897]\n",
      " [ 0.95346867  0.92837166  0.98417524  0.888097    0.98449198  0.8702273\n",
      "   0.64231014  0.56812021  0.85563666]\n",
      " [ 0.94167169  0.96702219  0.59190949  0.89599489  0.8138452   0.82463327\n",
      "   0.99633212  0.81138381  0.77861555]\n",
      " [ 0.91904358  0.99937667  0.89721755  0.63918954  0.59633188  0.95312374\n",
      "   0.74835974  0.69995203  0.91510943]\n",
      " [ 0.97363139  0.77423368  0.62398188  0.57166697  0.99220713  0.99897877\n",
      "   0.6772553   0.5770173   0.80842677]]\n",
      "(256, 256, 256)\n",
      "float64\n"
     ]
    }
   ],
   "source": [
    "# Création d'un nouveau tableau\n",
    "new_field = np.asarray(in_file['velocity'])\n",
    "print(new_field[1:10, 1:10, 3])\n",
    "print(new_field.shape)\n",
    "print(new_field.dtype)"
   ]
  },
  {
   "cell_type": "code",
   "execution_count": 28,
   "metadata": {
    "collapsed": true
   },
   "outputs": [],
   "source": [
    "# Ne pas oublier de fermer le fichier!\n",
    "in_file.close()"
   ]
  },
  {
   "cell_type": "code",
   "execution_count": 29,
   "metadata": {
    "collapsed": false
   },
   "outputs": [
    {
     "data": {
      "text/plain": [
       "[<matplotlib.lines.Line2D at 0x113f74400>]"
      ]
     },
     "execution_count": 29,
     "metadata": {},
     "output_type": "execute_result"
    },
    {
     "data": {
      "image/png": "[encoded data removed]",
      "text/plain": [
       "<matplotlib.figure.Figure at 0x1131d5780>"
      ]
     },
     "metadata": {},
     "output_type": "display_data"
    }
   ],
   "source": [
    "import matplotlib.pyplot as plt\n",
    "%matplotlib inline\n",
    "plt.plot(new_field[1:100, 1, 1])"
   ]
  },
  {
   "cell_type": "markdown",
   "metadata": {},
   "source": [
    "# Un exemple d'utilisation de XDMF et HDF5\n",
    "\n",
    "Paraview n'est (malheureusement) pas capable de lire directement du hdf5.\n",
    "Il faut le convertir en xmf. Nous vous proposons ici un exemple avec une fonction python capable de\n",
    "faire cette conversion.\n"
   ]
  },
  {
   "cell_type": "code",
   "execution_count": 30,
   "metadata": {
    "collapsed": false
   },
   "outputs": [],
   "source": [
    "# On recupère la fonction permettant d'écrire l'entête xdmf\n",
    "from xdmf import XDMFWriter"
   ]
  },
  {
   "cell_type": "markdown",
   "metadata": {},
   "source": [
    "##### Cette fonction est un exemple de génération de la partie 'ASCII' du fichier xdmf, en fonction de la  géométrie du domaine et de la grille."
   ]
  },
  {
   "cell_type": "code",
   "execution_count": 31,
   "metadata": {
    "collapsed": false
   },
   "outputs": [
    {
     "name": "stdout",
     "output_type": "stream",
     "text": [
      "Help on class XDMFWriter in module xdmf:\n",
      "\n",
      "class XDMFWriter(builtins.object)\n",
      " |  Methods defined here:\n",
      " |  \n",
      " |  __init__(self, h5filename, dimension, resolution, origin, space_step, dataset_names, ite, time)\n",
      " |      Parameters\n",
      " |      ----------\n",
      " |      h5filename : nom du fichier h5 contenant les donnees\n",
      " |      dimension du domaine\n",
      " |      resolution de la grille\n",
      " |      origin : coordonnees de l'origine du domain\n",
      " |      space_step : pas d'espace\n",
      " |      dataset_names : liste des datasets qu'on souhaite ecrire dans le xdmf\n",
      " |      ite : numero de l'iteration courante\n",
      " |      time : temps\n",
      " |  \n",
      " |  ----------------------------------------------------------------------\n",
      " |  Data descriptors defined here:\n",
      " |  \n",
      " |  __dict__\n",
      " |      dictionary for instance variables (if defined)\n",
      " |  \n",
      " |  __weakref__\n",
      " |      list of weak references to the object (if defined)\n",
      "\n"
     ]
    }
   ],
   "source": [
    "help(XDMFWriter)"
   ]
  },
  {
   "cell_type": "code",
   "execution_count": 32,
   "metadata": {
    "collapsed": false
   },
   "outputs": [
    {
     "name": "stdout",
     "output_type": "stream",
     "text": [
      "Ecriture du fichier demo_v0.xmf\n"
     ]
    }
   ],
   "source": [
    "# Description du domaine, de la grille\n",
    "origin = [0.,] * 3\n",
    "space_step = [0.1,] * 3\n",
    "resolution = new_field.shape\n",
    "filename = 'demo_v0.h5'\n",
    "wr = XDMFWriter(filename, 3, resolution, origin, space_step, ['velocity', 'temperature'], 1, 0.0)"
   ]
  },
  {
   "cell_type": "markdown",
   "metadata": {},
   "source": [
    "##### Le fichier peut maintenant être lu par Paraview."
   ]
  }
 ],
 "metadata": {
  "kernelspec": {
   "display_name": "Python 3",
   "language": "python",
   "name": "python3"
  },
  "language_info": {
   "codemirror_mode": {
    "name": "ipython",
    "version": 3
   },
   "file_extension": ".py",
   "mimetype": "text/x-python",
   "name": "python",
   "nbconvert_exporter": "python",
   "pygments_lexer": "ipython3",
   "version": "3.6.0"
  }
 },
 "nbformat": 4,
 "nbformat_minor": 0
}
